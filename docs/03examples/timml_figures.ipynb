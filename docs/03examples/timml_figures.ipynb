{
 "cells": [
  {
   "cell_type": "markdown",
   "metadata": {},
   "source": [
    "# TimML aquifer figures"
   ]
  },
  {
   "cell_type": "code",
   "execution_count": null,
   "metadata": {},
   "outputs": [],
   "source": [
    "import matplotlib.pyplot as plt"
   ]
  },
  {
   "cell_type": "code",
   "execution_count": null,
   "metadata": {},
   "outputs": [],
   "source": [
    "# ModelMaq figure\n",
    "plt.figure()\n",
    "plt.axes(frameon=0)\n",
    "grey = [0.9, 0.9, 0.9]\n",
    "plt.plot([-1, 1], [0, 0], \"k\", lw=2)\n",
    "plt.axhspan(-5, -10, color=grey)\n",
    "plt.axhspan(-20, -25, color=grey)\n",
    "plt.plot([-1, 1], [-35, -35], \"k\", lw=2)\n",
    "plt.text(0, -2.5, \"$k$ = 10 m/d\", ha=\"center\", va=\"center\")\n",
    "plt.text(0, -15, \"$k$ = 30 m/d\", ha=\"center\", va=\"center\")\n",
    "plt.text(0, -30, \"$k$ = 20 m/d\", ha=\"center\", va=\"center\")\n",
    "plt.text(0, -7.5, \"$c$ = 2000 d\", ha=\"center\", va=\"center\")\n",
    "plt.text(0, -22.5, \"$c$ = 5000 d\", ha=\"center\", va=\"center\")\n",
    "plt.xlim(-1, 1)\n",
    "plt.yticks([0, -5, -10, -20, -25, -35])\n",
    "plt.ylabel(\"elevation (m)\")\n",
    "plt.xticks([])\n",
    "# plt.savefig(\"../docs/models/modelmaq.png\", bbox_inches=\"tight\")\n",
    "# ModelMaq(kaq=[10, 30, 20], z=[0, -5, -10, -20, -25, -35], c=[2000, 5000])"
   ]
  },
  {
   "cell_type": "code",
   "execution_count": null,
   "metadata": {},
   "outputs": [],
   "source": [
    "# ModelMaq figure\n",
    "plt.figure()\n",
    "plt.axes(frameon=0)\n",
    "grey = [0.9, 0.9, 0.9]\n",
    "plt.plot([-1, 1], [0, 0], \"k\", lw=2)\n",
    "plt.axhspan(-5, -5, color=grey)\n",
    "plt.axhspan(-10, -10, color=grey)\n",
    "plt.axhspan(-20, -20, color=grey)\n",
    "plt.axhspan(-25, -25, color=grey)\n",
    "plt.plot([-1, 1], [-35, -35], \"k\", lw=2)\n",
    "plt.text(0, -2.5, \"$k$ = 10 m/d\", ha=\"center\", va=\"center\")\n",
    "plt.text(0, -7.5, \"$k$ = 0.025 m/d\", ha=\"center\", va=\"center\")\n",
    "plt.text(0, -15, \"$k$ = 30 m/d\", ha=\"center\", va=\"center\")\n",
    "plt.text(0, -22.5, \"$k$ = 0.01 m/d\", ha=\"center\", va=\"center\")\n",
    "plt.text(0, -30, \"$k$ = 20 m/d\", ha=\"center\", va=\"center\")\n",
    "plt.xlim(-1, 1)\n",
    "plt.yticks([0, -5, -10, -20, -25, -35])\n",
    "plt.ylabel(\"elevation (m)\")\n",
    "plt.xticks([])\n",
    "# plt.savefig(\"../docs/models/model3d.png\", bbox_inches=\"tight\")\n",
    "# Model3D(kaq=[10, 0.0025, 30, 0.001, 20], z=[0, -5, -10, -20, -25, -35], kzoverkh=0.1)"
   ]
  },
  {
   "cell_type": "code",
   "execution_count": null,
   "metadata": {},
   "outputs": [],
   "source": [
    "# Model\n",
    "plt.figure()\n",
    "plt.axes(frameon=0)\n",
    "grey = [0.9, 0.9, 0.9]\n",
    "plt.plot([-1, 1], [0, 0], \"k\", lw=2)\n",
    "plt.axhspan(-5, -5, color=grey)\n",
    "plt.axhspan(-10, -10, color=grey)\n",
    "plt.axhspan(-20, -25, color=grey)\n",
    "plt.plot([-1, 1], [-35, -35], \"k\", lw=2)\n",
    "plt.text(0, -2.5, \"$k$ = 10 m/d\", ha=\"center\", va=\"center\")\n",
    "plt.text(0, -7.5, \"$k$ = 5 m/d\", ha=\"center\", va=\"center\")\n",
    "plt.text(0, -15, \"$k$ = 30 m/d\", ha=\"center\", va=\"center\")\n",
    "plt.text(0, -22.5, \"$c$ = 2000 d\", ha=\"center\", va=\"center\")\n",
    "plt.text(0, -30, \"$k$ = 20 m/d\", ha=\"center\", va=\"center\")\n",
    "plt.xlim(-1, 1)\n",
    "plt.yticks([0, -5, -10, -20, -25, -35])\n",
    "plt.ylabel(\"elevation (m)\")\n",
    "plt.xticks([])\n",
    "# plt.savefig(\"../docs/models/model.png\", bbox_inches=\"tight\")\n",
    "# Model(kaq=[10, 5, 30, 20], c=[2, 5, 2000], z=[0, -5, -10, -20, -25, -35],\n",
    "# npor=[0.3, 0.3, 0.3, 0.3], ltype=['a', 'a', 'a', 'l', 'a'])"
   ]
  },
  {
   "cell_type": "code",
   "execution_count": null,
   "metadata": {},
   "outputs": [],
   "source": []
  }
 ],
 "metadata": {
  "language_info": {
   "name": "python"
  }
 },
 "nbformat": 4,
 "nbformat_minor": 4
}
