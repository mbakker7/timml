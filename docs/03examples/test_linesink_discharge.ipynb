{
 "cells": [
  {
   "cell_type": "markdown",
   "metadata": {},
   "source": [
    "# TimML test line-sink discharge"
   ]
  },
  {
   "cell_type": "code",
   "execution_count": null,
   "metadata": {},
   "outputs": [],
   "source": [
    "import matplotlib.pyplot as plt\n",
    "import numpy as np\n",
    "\n",
    "import timml as tml"
   ]
  },
  {
   "cell_type": "code",
   "execution_count": null,
   "metadata": {},
   "outputs": [],
   "source": [
    "ml1 = tml.ModelMaq(kaq=20)\n",
    "rf1 = tml.Constant(ml1, xr=0, yr=20, hr=30)\n",
    "ls1 = tml.LineSinkBase(ml1, x1=-10, y1=-10, x2=10, y2=10, Qls=1000)\n",
    "ml1.solve()"
   ]
  },
  {
   "cell_type": "code",
   "execution_count": null,
   "metadata": {},
   "outputs": [],
   "source": [
    "print(\"head at center of line-sink:\", ml1.head(ls1.xc, ls1.yc))\n",
    "print(\"discharge of line-sink:\", ls1.discharge())"
   ]
  },
  {
   "cell_type": "code",
   "execution_count": null,
   "metadata": {},
   "outputs": [],
   "source": [
    "ml2 = tml.ModelMaq(kaq=20)\n",
    "rf2 = tml.Constant(ml2, xr=0, yr=20, hr=30)\n",
    "N = 20\n",
    "d = 20 / N\n",
    "xw = np.arange(-10 + d / 2, 10, d)\n",
    "yw = np.arange(-10 + d / 2, 10, d)\n",
    "for i in range(N):\n",
    "    tml.Well(ml2, xw[i], yw[i], Qw=1000 / N)\n",
    "ml2.solve(silent=True)"
   ]
  },
  {
   "cell_type": "code",
   "execution_count": null,
   "metadata": {},
   "outputs": [],
   "source": [
    "ml1.plots.contour([-20, 20, -20, 20], 50, [0], np.arange(20, 31, 1), color=\"b\")\n",
    "ml2.plots.contour(\n",
    "    [-20, 20, -20, 20], 50, [0], np.arange(20, 31, 1), color=\"r\", newfig=False\n",
    ")"
   ]
  },
  {
   "cell_type": "code",
   "execution_count": null,
   "metadata": {},
   "outputs": [],
   "source": [
    "ml1 = tml.ModelMaq(kaq=[20, 10], z=[20, 12, 10, 0], c=[100])\n",
    "rf1 = tml.Constant(ml1, xr=0, yr=20, hr=30)\n",
    "ls1 = tml.HeadLineSink(ml1, -10, -10, 10, 10, 20, order=7, layers=0)\n",
    "ml1.solve()"
   ]
  },
  {
   "cell_type": "code",
   "execution_count": null,
   "metadata": {},
   "outputs": [],
   "source": [
    "ml2 = tml.ModelMaq(kaq=[20, 10], z=[20, 12, 10, 0], c=[100])\n",
    "rf2 = tml.Constant(ml2, xr=0, yr=20, hr=30)\n",
    "N = 50\n",
    "d = 20 / N\n",
    "xw = np.arange(-10 + d / 2, 10, d)\n",
    "yw = np.arange(-10 + d / 2, 10, d)\n",
    "for i in range(N):\n",
    "    tml.HeadWell(ml2, xw[i], yw[i], 20, layers=0)\n",
    "ml2.solve(silent=True)\n",
    "Qwell = 0\n",
    "for i in range(N):\n",
    "    Qwell += ml2.elementlist[i + 1].discharge()"
   ]
  },
  {
   "cell_type": "code",
   "execution_count": null,
   "metadata": {},
   "outputs": [],
   "source": [
    "print(\"discharge of line-sink:\", ls1.discharge())\n",
    "print(\"discharge of wells:\", Qwell)"
   ]
  },
  {
   "cell_type": "code",
   "execution_count": null,
   "metadata": {},
   "outputs": [],
   "source": [
    "ml1.plots.contour([-20, 20, -20, 20], 50, [0], np.arange(20, 31, 1), color=\"b\")\n",
    "ml2.plots.contour(\n",
    "    [-20, 20, -20, 20], 50, [0], np.arange(20, 31, 1), color=\"r\", newfig=False\n",
    ")"
   ]
  },
  {
   "cell_type": "code",
   "execution_count": null,
   "metadata": {},
   "outputs": [],
   "source": [
    "x = np.linspace(-100, 100, 100)\n",
    "h1 = ml1.headalongline(x, 0)\n",
    "h2 = ml2.headalongline(x, 0)\n",
    "plt.figure()\n",
    "plt.plot(x, h1.T, \"b\")\n",
    "plt.plot(x, h2.T, \"r\")"
   ]
  },
  {
   "cell_type": "markdown",
   "metadata": {},
   "source": [
    "## Resistance line-sink"
   ]
  },
  {
   "cell_type": "code",
   "execution_count": null,
   "metadata": {},
   "outputs": [],
   "source": [
    "ml = tml.ModelMaq(kaq=3)\n",
    "ls = tml.HeadLineSink(ml, -10, 0, 10, 0, wh=1, res=2, order=2)\n",
    "rf = tml.Constant(ml, 0, 20, 2)\n",
    "ml.solve()"
   ]
  },
  {
   "cell_type": "code",
   "execution_count": null,
   "metadata": {},
   "outputs": [],
   "source": [
    "for i in range(3):\n",
    "    print((ml.head(ls.xc[i], ls.yc[i]) - ls.hc) * ls.wh / ls.res)\n",
    "    print(np.sum(ls.strengthinf[i] * ls.parameters[:, 0]))"
   ]
  },
  {
   "cell_type": "code",
   "execution_count": null,
   "metadata": {},
   "outputs": [],
   "source": [
    "ml = tml.ModelMaq(kaq=[1, 2], z=[20, 10, 10, 0], c=[1000])\n",
    "lslayer = 0\n",
    "order = 2\n",
    "ls = tml.HeadLineSink(ml, -10, 0, 10, 0, order=order, wh=1, res=2, layers=[lslayer])\n",
    "rf = tml.Constant(ml, 0, 20, 2)\n",
    "ml.solve()\n",
    "for i in range(order + 1):\n",
    "    print((ml.head(ls.xc[i], ls.yc[i]) - ls.hc[i])[lslayer] * ls.wh / ls.res)\n",
    "    print(np.sum(ls.strengthinf[i] * ls.parameters[:, 0]))"
   ]
  },
  {
   "cell_type": "code",
   "execution_count": null,
   "metadata": {},
   "outputs": [],
   "source": [
    "ml = tml.ModelMaq(kaq=[1, 2], z=[20, 12, 10, 0], c=[1000])\n",
    "order = 2\n",
    "ls = tml.HeadLineSink(ml, -10, 0, 10, 0, order=order, hls=1, wh=1, res=2, layers=[0, 1])\n",
    "rf = tml.Constant(ml, 0, 2000, 2)\n",
    "ml.solve()\n",
    "for i in range(order + 1):\n",
    "    for ilay in range(2):\n",
    "        print(((ml.head(ls.xc[i], ls.yc[i]) - ls.hc[i]) * ls.wh / ls.res)[ilay])\n",
    "        print(np.sum(ls.strengthinf[2 * i + ilay] * ls.parameters[:, 0]))"
   ]
  },
  {
   "cell_type": "code",
   "execution_count": null,
   "metadata": {},
   "outputs": [],
   "source": [
    "print(ml.headalongline(ls.xc, ls.yc))\n",
    "print(ls.hc)"
   ]
  },
  {
   "cell_type": "markdown",
   "metadata": {},
   "source": [
    "## Specifying heads along line-sinks"
   ]
  },
  {
   "cell_type": "markdown",
   "metadata": {},
   "source": [
    "Give one value that is applied at all control points"
   ]
  },
  {
   "cell_type": "code",
   "execution_count": null,
   "metadata": {},
   "outputs": [],
   "source": [
    "ml1 = tml.ModelMaq(kaq=[20, 10], z=[20, 12, 10, 0], c=[100])\n",
    "rf1 = tml.Constant(ml1, xr=0, yr=20, hr=30)\n",
    "ls1 = tml.HeadLineSink(ml1, -10, 0, 10, 0, hls=20, order=2, layers=[0])\n",
    "ml1.solve()\n",
    "print(ml1.headalongline(ls1.xc, ls1.yc))"
   ]
  },
  {
   "cell_type": "markdown",
   "metadata": {},
   "source": [
    "Give `order + 1` values, which is applied at the `order + 1` control points. This may not be so useful, as the user needs to know where those control points are. "
   ]
  },
  {
   "cell_type": "code",
   "execution_count": null,
   "metadata": {},
   "outputs": [],
   "source": [
    "ml1 = tml.ModelMaq(kaq=[20, 10], z=[20, 12, 10, 0], c=[100])\n",
    "rf1 = tml.Constant(ml1, xr=0, yr=20, hr=30)\n",
    "ls1 = tml.HeadLineSink(ml1, -10, 0, 10, 0, hls=[20, 19, 18], order=2, layers=[0])\n",
    "ml1.solve()\n",
    "print(ml1.headalongline(ls1.xc, ls1.yc))"
   ]
  },
  {
   "cell_type": "code",
   "execution_count": null,
   "metadata": {},
   "outputs": [],
   "source": [
    "ml1 = tml.ModelMaq(kaq=[20, 10], z=[20, 12, 10, 0], c=[100])\n",
    "rf1 = tml.Constant(ml1, xr=0, yr=20, hr=30)\n",
    "ls1 = tml.HeadLineSink(ml1, -10, 0, 10, 0, hls=[19, 20], order=2, layers=[0])\n",
    "ml1.solve()\n",
    "print(ml1.headalongline(ls1.xc, ls1.yc))"
   ]
  },
  {
   "cell_type": "markdown",
   "metadata": {},
   "source": [
    "## LineSinkDitch"
   ]
  },
  {
   "cell_type": "code",
   "execution_count": null,
   "metadata": {},
   "outputs": [],
   "source": [
    "ml1 = tml.ModelMaq(kaq=[20, 10], z=[20, 12, 10, 0], c=[100])\n",
    "rf1 = tml.Constant(ml1, xr=0, yr=20, hr=30)\n",
    "ls1 = tml.LineSinkDitch(ml1, -10, -10, 10, 10, Qls=1000, order=2, layers=[0])\n",
    "ml1.solve()\n",
    "print(ml1.headalongline(ls1.xc, ls1.yc))\n",
    "print(ls1.discharge())"
   ]
  },
  {
   "cell_type": "code",
   "execution_count": null,
   "metadata": {},
   "outputs": [],
   "source": [
    "ml1 = tml.ModelMaq(kaq=[20, 10], z=[20, 12, 10, 0], c=[100])\n",
    "rf1 = tml.Constant(ml1, xr=0, yr=20, hr=30)\n",
    "ls1 = tml.LineSinkDitch(ml1, -10, -10, 10, 10, Qls=1000, order=2, layers=[0, 1])\n",
    "ml1.solve()\n",
    "print(ml1.headalongline(ls1.xc, ls1.yc))\n",
    "print(ls1.discharge())"
   ]
  },
  {
   "cell_type": "markdown",
   "metadata": {},
   "source": [
    "## Head line-sink string"
   ]
  },
  {
   "cell_type": "code",
   "execution_count": null,
   "metadata": {},
   "outputs": [],
   "source": [
    "ml1 = tml.ModelMaq(kaq=[20, 10], z=[20, 12, 10, 0], c=[100])\n",
    "rf1 = tml.Constant(ml1, xr=0, yr=20, hr=30)\n",
    "ls1 = tml.HeadLineSinkString(\n",
    "    ml1, xy=[(-10, 0), (0, 0), (10, 0), (10, 10)], hls=20, order=5, layers=[0]\n",
    ")\n",
    "ml1.solve()\n",
    "ml1.plots.contour([-20, 20, -20, 20], 50, [0], 40)"
   ]
  },
  {
   "cell_type": "code",
   "execution_count": null,
   "metadata": {},
   "outputs": [],
   "source": [
    "ml1 = tml.ModelMaq(kaq=[20, 10], z=[20, 12, 10, 0], c=[100])\n",
    "rf1 = tml.Constant(ml1, xr=0, yr=20, hr=30)\n",
    "ls1 = tml.HeadLineSinkString(\n",
    "    ml1, xy=[(-10, 0), (0, 0), (10, 0), (10, 10)], hls=[20, 22], order=5, layers=[0]\n",
    ")\n",
    "ml1.solve()\n",
    "ml1.plots.contour([-20, 20, -20, 20], 50, [0], 40)"
   ]
  },
  {
   "cell_type": "code",
   "execution_count": null,
   "metadata": {},
   "outputs": [],
   "source": [
    "xls1 = np.linspace(-10, 10, 50)\n",
    "yls1 = np.linspace(0, 0, 50)\n",
    "hls1 = ml1.headalongline(xls1, yls1)\n",
    "plt.figure()\n",
    "plt.plot(xls1, hls1[0])\n",
    "xls2 = np.linspace(10, 10, 50)\n",
    "yls2 = np.linspace(0, 10, 50)\n",
    "hls2 = ml1.headalongline(xls2, yls2)\n",
    "plt.plot(10 + yls2, hls2[0])"
   ]
  },
  {
   "cell_type": "code",
   "execution_count": null,
   "metadata": {},
   "outputs": [],
   "source": [
    "for ls in ls1.lslist:\n",
    "    print(ml1.headalongline(ls.xc, ls.yc)[0])\n",
    "    print(ls.hc)"
   ]
  },
  {
   "cell_type": "markdown",
   "metadata": {},
   "source": [
    "### add resistance"
   ]
  },
  {
   "cell_type": "code",
   "execution_count": null,
   "metadata": {},
   "outputs": [],
   "source": [
    "ml1 = tml.ModelMaq(kaq=[20, 10], z=[20, 12, 10, 0], c=[100])\n",
    "rf1 = tml.Constant(ml1, xr=0, yr=200, hr=2)\n",
    "ls1 = tml.HeadLineSinkString(\n",
    "    ml1,\n",
    "    xy=[(-10, 0), (0, 0), (10, 0), (10, 10)],\n",
    "    hls=[0, 1],\n",
    "    res=2,\n",
    "    wh=5,\n",
    "    order=5,\n",
    "    layers=[0],\n",
    ")\n",
    "ml1.solve()"
   ]
  },
  {
   "cell_type": "markdown",
   "metadata": {},
   "source": [
    "Calculate total discharge and per linesink (using two different methods), check they\n",
    "are all equal."
   ]
  },
  {
   "cell_type": "code",
   "execution_count": null,
   "metadata": {},
   "outputs": [],
   "source": [
    "Qtot = ls1.discharge()\n",
    "Qls_sum = np.sum(ls1.discharge_per_linesink(), axis=1)\n",
    "Qper_linesink_sum = np.sum([ls.discharge() for ls in ls1.lslist], axis=0)\n",
    "\n",
    "assert np.allclose(Qtot, Qls_sum)\n",
    "assert np.allclose(Qtot, Qper_linesink_sum)"
   ]
  },
  {
   "cell_type": "code",
   "execution_count": null,
   "metadata": {},
   "outputs": [],
   "source": [
    "xls1 = np.linspace(-10, 10, 50)\n",
    "yls1 = np.linspace(0, 0, 50)\n",
    "hls1 = ml1.headalongline(xls1, yls1)\n",
    "plt.figure()\n",
    "plt.plot(xls1, hls1[0])\n",
    "xls2 = np.linspace(10, 10, 50)\n",
    "yls2 = np.linspace(0, 10, 50)\n",
    "hls2 = ml1.headalongline(xls2, yls2)\n",
    "plt.plot(10 + yls2, hls2[0])"
   ]
  },
  {
   "cell_type": "code",
   "execution_count": null,
   "metadata": {},
   "outputs": [],
   "source": [
    "for ls in ls1.lslist:\n",
    "    print(ml1.headalongline(ls.xc, ls.yc)[0])\n",
    "    print(ls.hc)"
   ]
  },
  {
   "cell_type": "code",
   "execution_count": null,
   "metadata": {},
   "outputs": [],
   "source": [
    "ls.res"
   ]
  },
  {
   "cell_type": "markdown",
   "metadata": {},
   "source": [
    "## Ditch string"
   ]
  },
  {
   "cell_type": "code",
   "execution_count": null,
   "metadata": {},
   "outputs": [],
   "source": [
    "ml1 = tml.ModelMaq(kaq=[20, 10], z=[20, 12, 10, 0], c=[100])\n",
    "rf1 = tml.Constant(ml1, xr=0, yr=20, hr=1)\n",
    "ls1 = tml.LineSinkDitchString(\n",
    "    ml1, xy=[(-10, 0), (0, 0), (10, 0)], Qls=100, wh=2, res=5, order=2, layers=[0]\n",
    ")\n",
    "ml1.solve()\n",
    "print(\"discharge:\", ls1.discharge())"
   ]
  },
  {
   "cell_type": "code",
   "execution_count": null,
   "metadata": {},
   "outputs": [],
   "source": [
    "ml1.plots.contour([-20, 20, -20, 20], 50, [0], 20)"
   ]
  },
  {
   "cell_type": "markdown",
   "metadata": {},
   "source": [
    "### Ditch in different layers"
   ]
  },
  {
   "cell_type": "code",
   "execution_count": null,
   "metadata": {},
   "outputs": [],
   "source": [
    "ml1 = tml.ModelMaq(kaq=[20, 10], z=[20, 12, 10, 0], c=[100])\n",
    "rf1 = tml.Constant(ml1, xr=0, yr=20, hr=1)\n",
    "ls1 = tml.LineSinkDitchString(\n",
    "    ml1,\n",
    "    xy=[(-10, 0), (0, 0), (10, 0), (10, 20)],\n",
    "    Qls=100,\n",
    "    wh=2,\n",
    "    res=5,\n",
    "    order=2,\n",
    "    layers=[0, 1, 0],\n",
    ")\n",
    "ml1.solve()"
   ]
  },
  {
   "cell_type": "markdown",
   "metadata": {},
   "source": [
    "### Angle well"
   ]
  },
  {
   "cell_type": "code",
   "execution_count": null,
   "metadata": {},
   "outputs": [],
   "source": [
    "ml = tml.Model3D(\n",
    "    kaq=1,\n",
    "    z=np.arange(10, -0.1, -0.2),\n",
    "    kzoverkh=0.1,\n",
    "    topboundary=\"semi\",\n",
    "    topres=0,\n",
    "    topthick=2,\n",
    "    hstar=7,\n",
    ")\n",
    "xy = list(zip(np.linspace(-10, 10, 21), np.zeros(21), strict=False))\n",
    "ls = tml.LineSinkDitchString(\n",
    "    ml, xy=xy, Qls=100, wh=2, res=5, order=2, layers=np.arange(10, 30, 1)\n",
    ")\n",
    "ml.solve()"
   ]
  },
  {
   "cell_type": "code",
   "execution_count": null,
   "metadata": {},
   "outputs": [],
   "source": [
    "ml.plots.vcontour([-20, 20, 0, 0], 100, 20)"
   ]
  },
  {
   "cell_type": "code",
   "execution_count": null,
   "metadata": {},
   "outputs": [],
   "source": []
  }
 ],
 "metadata": {
  "language_info": {
   "name": "python"
  }
 },
 "nbformat": 4,
 "nbformat_minor": 4
}
