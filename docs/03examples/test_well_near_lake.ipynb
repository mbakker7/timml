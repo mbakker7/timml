{
 "cells": [
  {
   "cell_type": "markdown",
   "metadata": {},
   "source": [
    "# Test well near lake"
   ]
  },
  {
   "cell_type": "code",
   "execution_count": null,
   "metadata": {},
   "outputs": [],
   "source": [
    "import timml as tml"
   ]
  },
  {
   "cell_type": "code",
   "execution_count": null,
   "metadata": {},
   "outputs": [],
   "source": [
    "ml = tml.ModelMaq(kaq=[1, 2], z=[10, 5, 4, 0], c=20)\n",
    "xy = [(-5, 0), (5, 0), (5, 8), (-5, 8)]\n",
    "p1 = tml.PolygonInhomMaq(\n",
    "    ml,\n",
    "    xy=[(-5, 0), (5, 0), (5, 8), (-5, 8)],\n",
    "    kaq=[0.2, 8],\n",
    "    z=[11, 10, 5, 4, 0],\n",
    "    c=[2, 20],\n",
    "    topboundary=\"semi\",\n",
    "    hstar=1.0,\n",
    "    order=3,\n",
    "    ndeg=1,\n",
    ")\n",
    "w = tml.Well(ml, xw=0, yw=-10, Qw=100, layers=1)\n",
    "rf = tml.Constant(ml, xr=0, yr=-100, hr=2)\n",
    "ml.solve()"
   ]
  },
  {
   "cell_type": "code",
   "execution_count": null,
   "metadata": {},
   "outputs": [],
   "source": [
    "ml.plots.contour([-10, 10, -10, 10], 50, [0, 1], 20)"
   ]
  },
  {
   "cell_type": "code",
   "execution_count": null,
   "metadata": {},
   "outputs": [],
   "source": []
  }
 ],
 "metadata": {
  "language_info": {
   "name": "python"
  }
 },
 "nbformat": 4,
 "nbformat_minor": 4
}
