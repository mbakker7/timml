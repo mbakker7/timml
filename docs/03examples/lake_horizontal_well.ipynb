{
 "cells": [
  {
   "cell_type": "markdown",
   "metadata": {},
   "source": [
    "# Lake with a horizontal well"
   ]
  },
  {
   "cell_type": "code",
   "execution_count": null,
   "metadata": {},
   "outputs": [],
   "source": [
    "import timml as tml"
   ]
  },
  {
   "cell_type": "code",
   "execution_count": null,
   "metadata": {},
   "outputs": [],
   "source": [
    "ml = tml.ModelMaq(kaq=[1, 2], z=[10, 5, 4, 0], c=20)\n",
    "xy = [(-5, 0), (0, 0), (5, 0), (5, 8), (-5, 8)]\n",
    "p1 = tml.PolygonInhomMaq(\n",
    "    ml,\n",
    "    xy=xy,\n",
    "    kaq=[0.2, 8],\n",
    "    z=[11, 10, 5, 4, 0],\n",
    "    c=[2, 20],\n",
    "    topboundary=\"semi\",\n",
    "    hstar=1.0,\n",
    "    order=3,\n",
    "    ndeg=1,\n",
    ")\n",
    "w = tml.Well(ml, xw=0, yw=-10, Qw=100, layers=1)\n",
    "rf = tml.Constant(ml, xr=0, yr=-100, hr=2)\n",
    "ml.solve()\n",
    "\n",
    "ml.plots.contour([-10, 10, -15, 10], 50, [0, 1], 30)"
   ]
  },
  {
   "cell_type": "code",
   "execution_count": null,
   "metadata": {},
   "outputs": [],
   "source": [
    "ml = tml.ModelMaq(kaq=[1, 2], z=[10, 5, 4, 0], c=20)\n",
    "xy = [(-5, 0), (0, 0), (5, 0), (5, 8), (-5, 8)]\n",
    "p1 = tml.PolygonInhomMaq(\n",
    "    ml,\n",
    "    xy=xy,\n",
    "    kaq=[0.2, 8],\n",
    "    z=[11, 10, 5, 4, 0],\n",
    "    c=[2, 20],\n",
    "    topboundary=\"semi\",\n",
    "    hstar=1.0,\n",
    "    order=5,\n",
    "    ndeg=2,\n",
    ")\n",
    "ls1 = tml.LineSinkDitchString(ml, [(0, -4), (0, 0), (0, 4)], 100, order=3, layers=[1])\n",
    "rf = tml.Constant(ml, xr=0, yr=-100, hr=2)\n",
    "ml.solve()\n",
    "\n",
    "ml.plots.contour([-10, 10, -5, 10], 50, [0], 30)\n",
    "ml.plots.contour([-10, 10, -5, 10], 50, [1], 30)"
   ]
  },
  {
   "cell_type": "code",
   "execution_count": null,
   "metadata": {},
   "outputs": [],
   "source": [
    "for ls in ls1.lslist:\n",
    "    for i in range(ls.ncp):\n",
    "        print(ml.head(ls.xc[i], ls.yc[i], ls.layers))"
   ]
  },
  {
   "cell_type": "code",
   "execution_count": null,
   "metadata": {},
   "outputs": [],
   "source": [
    "ml = tml.ModelMaq(kaq=[1, 2], z=[10, 5, 4, 0], c=20)\n",
    "xy = [(-5, 0), (0, 0), (5, 0), (5, 8), (-5, 8)]\n",
    "p1 = tml.PolygonInhomMaq(\n",
    "    ml,\n",
    "    xy=xy,\n",
    "    kaq=[1, 2],\n",
    "    z=[11, 10, 5, 4, 0],\n",
    "    c=[2, 2],\n",
    "    topboundary=\"semi\",\n",
    "    hstar=1.0,\n",
    "    order=5,\n",
    "    ndeg=2,\n",
    ")\n",
    "ls1 = tml.LineSinkDitchString(ml, [(0, -4), (0, 0), (0, 4)], 100, order=3, layers=[1])\n",
    "rf = tml.Constant(ml, xr=0, yr=-100, hr=2)\n",
    "ml.solve()\n",
    "\n",
    "ml.plots.contour([-10, 10, -5, 10], 51, [0], 30)\n",
    "ml.plots.contour([-10, 10, -5, 10], 51, [1], 30)"
   ]
  },
  {
   "cell_type": "code",
   "execution_count": null,
   "metadata": {},
   "outputs": [],
   "source": []
  }
 ],
 "metadata": {
  "language_info": {
   "name": "python"
  }
 },
 "nbformat": 4,
 "nbformat_minor": 4
}
