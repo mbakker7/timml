{
 "cells": [
  {
   "cell_type": "markdown",
   "metadata": {},
   "source": [
    "# TimML Notebook 0"
   ]
  },
  {
   "cell_type": "markdown",
   "metadata": {},
   "source": [
    "\n",
    "## Single layer flow"
   ]
  },
  {
   "cell_type": "markdown",
   "metadata": {},
   "source": [
    "Consider uniform flow from East to West. The gradient is 0.001. The hydraulic conductivity is $k=10$ m/d. The aquifer bottom and top are at 0 m and 10 m. The head at $x=-1000$ m and $y=0$ is fixed at 41 m. "
   ]
  },
  {
   "cell_type": "code",
   "execution_count": null,
   "metadata": {},
   "outputs": [],
   "source": [
    "import matplotlib.pyplot as plt\n",
    "import numpy as np\n",
    "\n",
    "import timml as tml"
   ]
  },
  {
   "cell_type": "code",
   "execution_count": null,
   "metadata": {},
   "outputs": [],
   "source": [
    "ml = tml.ModelMaq(kaq=10, z=[10, 0])"
   ]
  },
  {
   "cell_type": "code",
   "execution_count": null,
   "metadata": {},
   "outputs": [],
   "source": [
    "rf = tml.Constant(ml, xr=-1000, yr=0, hr=41)"
   ]
  },
  {
   "cell_type": "code",
   "execution_count": null,
   "metadata": {},
   "outputs": [],
   "source": [
    "uf = tml.Uflow(ml, slope=0.001, angle=0)"
   ]
  },
  {
   "cell_type": "code",
   "execution_count": null,
   "metadata": {},
   "outputs": [],
   "source": [
    "ml.solve()"
   ]
  },
  {
   "cell_type": "code",
   "execution_count": null,
   "metadata": {},
   "outputs": [],
   "source": [
    "ml.plots.contour(\n",
    "    win=[-1200, 200, -500, 500],\n",
    "    ngr=50,\n",
    "    levels=10,\n",
    "    labels=True,\n",
    "    decimals=2,\n",
    "    legend=True,\n",
    "    figsize=(6, 6),\n",
    ");"
   ]
  },
  {
   "cell_type": "markdown",
   "metadata": {},
   "source": [
    "The default contour levels are not what we want for this example, so let's specify the levels \n",
    "to go from 39 to 42 with steps of 0.1 (not all those levels are present in the current window)."
   ]
  },
  {
   "cell_type": "code",
   "execution_count": null,
   "metadata": {},
   "outputs": [],
   "source": [
    "ml.plots.contour(\n",
    "    win=[-1200, 200, -500, 500],\n",
    "    ngr=50,\n",
    "    levels=np.arange(39, 42, 0.1),\n",
    "    labels=True,\n",
    "    decimals=1,\n",
    "    figsize=(6, 6),\n",
    ");"
   ]
  },
  {
   "cell_type": "markdown",
   "metadata": {},
   "source": [
    "A well is located at $(x,y)=(-400,0)$ with a discharge $Q=50$ m$^3$ and a radius of 0.2 m."
   ]
  },
  {
   "cell_type": "code",
   "execution_count": null,
   "metadata": {},
   "outputs": [],
   "source": [
    "w = tml.Well(ml, xw=-400, yw=0, Qw=50.0, rw=0.2)"
   ]
  },
  {
   "cell_type": "markdown",
   "metadata": {},
   "source": [
    "After the well is added (or any other elements), the model needs to be solved again. A contour plot is created and a 10 strace line are added. The stepsize is given in meters and represents the largest space step that is taken, but it is reduced when certain accuracy constraints are not met. Note that, after running the code cell below, for each trace line it is printed to the screen what the reason was that the traceline was aborted. In this case it was either because the trace line reached a well or reached the maximum number of steps (the default is 100 steps, but this can be changed by specifying the `nstepmax` keyword).  "
   ]
  },
  {
   "cell_type": "code",
   "execution_count": null,
   "metadata": {},
   "outputs": [],
   "source": [
    "ml.solve()\n",
    "ml.plots.contour(\n",
    "    win=[-1000, 100, -500, 500], ngr=50, levels=np.arange(39, 42, 0.1), figsize=(6, 6)\n",
    ")\n",
    "ml.plots.tracelines(\n",
    "    -800 * np.ones(1), -200 * np.ones(1), np.zeros(1), hstepmax=20, color=\"C1\"\n",
    ")"
   ]
  },
  {
   "cell_type": "markdown",
   "metadata": {},
   "source": [
    "### Exercise a\n",
    "Draw 10 tracelines from $x=-800$ and different values of $y$."
   ]
  },
  {
   "cell_type": "code",
   "execution_count": null,
   "metadata": {},
   "outputs": [],
   "source": [
    "ml.plots.contour(\n",
    "    win=[-1000, 100, -500, 500], ngr=50, levels=np.arange(39, 42, 0.1), figsize=(6, 6)\n",
    ")\n",
    "ml.plots.tracelines(\n",
    "    -800 * np.ones(10),\n",
    "    np.linspace(-500, 500, 10),\n",
    "    np.zeros(10),\n",
    "    hstepmax=20,\n",
    "    color=\"C1\",\n",
    ")"
   ]
  },
  {
   "cell_type": "markdown",
   "metadata": {},
   "source": [
    "### Exercise b\n",
    "Quadruple the discharge of the well and reproduce the same figure"
   ]
  },
  {
   "cell_type": "code",
   "execution_count": null,
   "metadata": {},
   "outputs": [],
   "source": [
    "ml = tml.ModelMaq(kaq=10, z=[10, 0])\n",
    "rf = tml.Constant(ml, xr=-1000, yr=0, hr=41)\n",
    "uf = tml.Uflow(ml, slope=0.001, angle=0)\n",
    "w = tml.Well(ml, xw=-400, yw=0, Qw=200, rw=0.2)\n",
    "ml.solve()\n",
    "ml.plots.contour(\n",
    "    win=[-1000, 100, -500, 500], ngr=50, levels=np.arange(39, 42, 0.1), figsize=(6, 6)\n",
    ")\n",
    "ml.plots.tracelines(\n",
    "    -800 * np.ones(10),\n",
    "    np.linspace(-500, 500, 10),\n",
    "    np.zeros(10),\n",
    "    hstepmax=20,\n",
    "    color=\"C1\",\n",
    ")\n",
    "print((\"head at well:\", w.headinside()))"
   ]
  },
  {
   "cell_type": "markdown",
   "metadata": {},
   "source": [
    "### Add a river\n",
    "A river runs along $x=0$. The water level in the river is at 40 m. Note that one head-specified line-sink of uniform flux only fixes the head at one point (in this case $(x,y)=(0,0)$). That is not a very good representation of a river.  "
   ]
  },
  {
   "cell_type": "code",
   "execution_count": null,
   "metadata": {},
   "outputs": [],
   "source": [
    "ml = tml.ModelMaq(kaq=10, z=[10, 0])\n",
    "rf = tml.Constant(ml, xr=-1000, yr=0, hr=41)\n",
    "uf = tml.Uflow(ml, slope=0.001, angle=0)\n",
    "w = tml.Well(ml, xw=-400, yw=0, Qw=200, rw=0.2)\n",
    "ls1 = tml.HeadLineSink(ml, 0, -500, 0, 500, 40)\n",
    "ml.solve()\n",
    "ml.plots.contour(\n",
    "    win=[-1000, 100, -500, 500], ngr=50, levels=np.arange(39, 42, 0.1), figsize=(6, 6)\n",
    ")\n",
    "print((\"head at well:\", w.headinside()))"
   ]
  },
  {
   "cell_type": "markdown",
   "metadata": {},
   "source": [
    "### Exercise c\n",
    "Simulate the river with 20 line-sinks from $y=-800$ to $y=800$. Now that head is fixed at 20 points (the midpoints of the line-sinks), and the head is fairly constant along the river. "
   ]
  },
  {
   "cell_type": "code",
   "execution_count": null,
   "metadata": {},
   "outputs": [],
   "source": [
    "ml = tml.ModelMaq(kaq=10, z=[10, 0])\n",
    "rf = tml.Constant(ml, xr=-1000, yr=0, hr=41)\n",
    "uf = tml.Uflow(ml, slope=0.001, angle=0)\n",
    "w = tml.Well(ml, xw=-400, yw=0, Qw=200, rw=0.2)\n",
    "xls = np.zeros(21)\n",
    "yls = np.linspace(-800, 800, 21)\n",
    "ls = tml.HeadLineSinkString(\n",
    "    ml, xy=list(zip(xls, yls, strict=False)), hls=40, layers=0, label=\"river\"\n",
    ")\n",
    "ml.solve()\n",
    "ml.plots.contour(\n",
    "    win=[-1000, 100, -500, 500], ngr=50, levels=np.arange(39, 42, 0.1), figsize=(6, 6)\n",
    ")\n",
    "ml.plots.tracelines(\n",
    "    -800 * np.ones(10),\n",
    "    np.linspace(-500, 500, 10),\n",
    "    np.zeros(10),\n",
    "    hstepmax=20,\n",
    "    color=\"C1\",\n",
    ")\n",
    "ml.plots.tracelines(\n",
    "    -0.01 * np.ones(5), np.linspace(-150, 150, 5), np.zeros(5), hstepmax=20, color=\"C2\"\n",
    ")"
   ]
  },
  {
   "cell_type": "markdown",
   "metadata": {},
   "source": [
    "### Capture zone\n",
    "Create a five year capture zone. You may want to create a contour plot first."
   ]
  },
  {
   "cell_type": "code",
   "execution_count": null,
   "metadata": {},
   "outputs": [],
   "source": [
    "ml.plots.contour(\n",
    "    win=[-1000, 100, -500, 500],\n",
    "    ngr=50,\n",
    "    levels=np.arange(39, 42, 0.1),\n",
    "    layers=0,\n",
    "    figsize=(6, 6),\n",
    ")\n",
    "w.plotcapzone(hstepmax=20, nt=20, zstart=0, tmax=5 * 365.25, color=\"C1\")"
   ]
  },
  {
   "cell_type": "markdown",
   "metadata": {},
   "source": [
    "### Exercise d\n",
    "Create a 20 year capture zone using 20 tracelines."
   ]
  },
  {
   "cell_type": "code",
   "execution_count": null,
   "metadata": {},
   "outputs": [],
   "source": [
    "ml.plots.contour(\n",
    "    win=[-1000, 100, -500, 500],\n",
    "    ngr=50,\n",
    "    levels=np.arange(39, 42, 0.1),\n",
    "    layers=0,\n",
    "    figsize=(6, 6),\n",
    ")\n",
    "w.plotcapzone(hstepmax=20, nt=20, zstart=0, tmax=20 * 365.25, color=\"C1\")"
   ]
  },
  {
   "cell_type": "markdown",
   "metadata": {},
   "source": [
    "### Head-specified wells\n",
    "Consider uniform flow from East to West. The gradient is 0.001. The hydraulic conductivity is $k=10$ m/d. The aquifer bottom and top are at 0 m and 10 m. The head at $x=-1000$ m and $y=0$ is fixed at 41 m. Four wells are located at (-800, -200), (-800, 200), (-400, -200), and (-400, 200), all with radius of 0.3 m, and specified head 40 m."
   ]
  },
  {
   "cell_type": "code",
   "execution_count": null,
   "metadata": {},
   "outputs": [],
   "source": [
    "ml = tml.ModelMaq(kaq=10, z=[10, 0])\n",
    "rf = tml.Constant(ml, xr=-1000, yr=0, hr=41)\n",
    "uf = tml.Uflow(ml, slope=0.001, angle=0)\n",
    "w1 = tml.HeadWell(ml, -800, -200, 40, rw=0.3)\n",
    "w2 = tml.HeadWell(ml, -800, 200, 40, rw=0.3)\n",
    "w3 = tml.HeadWell(ml, -400, -200, 40, rw=0.3)\n",
    "w4 = tml.HeadWell(ml, -400, 200, 40, rw=0.3)\n",
    "ml.solve()\n",
    "ml.plots.contour(\n",
    "    win=[-1200, 200, -500, 500],\n",
    "    ngr=50,\n",
    "    levels=10,\n",
    "    labels=True,\n",
    "    decimals=2,\n",
    "    legend=True,\n",
    "    figsize=(6, 6),\n",
    ")\n",
    "print(ml.head(-800 + 0.3, -200))\n",
    "print(ml.head(-800 + 0.3, 200))\n",
    "print(ml.head(-400 + 0.3, -200))\n",
    "print(ml.head(-400 + 0.3, 200))"
   ]
  },
  {
   "cell_type": "markdown",
   "metadata": {},
   "source": [
    "### Head-specified wells with control points at different locations\n",
    "The same setup as the previous aquifer, exercise, but now the wells are located at (-700, -100), (-700, 100), (-500, -100), and (-500, 100), and the corresponding control points where the head is 40 m are at (-800, -200), (-800, 200), (-400, -200), and (-400, 200)."
   ]
  },
  {
   "cell_type": "code",
   "execution_count": null,
   "metadata": {},
   "outputs": [],
   "source": [
    "ml = tml.ModelMaq(kaq=10, z=[10, 0])\n",
    "rf = tml.Constant(ml, xr=-1000, yr=0, hr=41)\n",
    "uf = tml.Uflow(ml, slope=0.001, angle=0)\n",
    "w1 = tml.HeadWell(ml, -700, -100, 40, rw=0.3, xc=-800, yc=-200)\n",
    "w2 = tml.HeadWell(ml, -700, 100, 40, rw=0.3, xc=-800, yc=200)\n",
    "w3 = tml.HeadWell(ml, -500, -100, 40, rw=0.3, xc=-400, yc=-200)\n",
    "w4 = tml.HeadWell(ml, -500, 100, 40, rw=0.3, xc=-400, yc=200)\n",
    "ml.solve()\n",
    "ml.plots.contour(\n",
    "    win=[-1200, 200, -500, 500],\n",
    "    ngr=50,\n",
    "    levels=10,\n",
    "    labels=True,\n",
    "    decimals=2,\n",
    "    legend=True,\n",
    "    figsize=(6, 6),\n",
    ")\n",
    "ml.plots.contour(\n",
    "    win=[-1200, 200, -500, 500],\n",
    "    ngr=50,\n",
    "    color=\"C1\",\n",
    "    levels=[\n",
    "        40,\n",
    "    ],\n",
    "    labels=True,\n",
    "    decimals=2,\n",
    "    legend=True,\n",
    "    figsize=(6, 6),\n",
    "    newfig=False,\n",
    ")\n",
    "plt.plot([-800, -800, -400, -400], [-200, 200, -200, 200], \"kx\")\n",
    "print(ml.head(-800, -200))\n",
    "print(ml.head(-800, 200))\n",
    "print(ml.head(-400, -200))\n",
    "print(ml.head(-400, 200))"
   ]
  }
 ],
 "metadata": {
  "language_info": {
   "name": "python"
  }
 },
 "nbformat": 4,
 "nbformat_minor": 4
}
