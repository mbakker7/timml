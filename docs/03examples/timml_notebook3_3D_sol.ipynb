{
 "cells": [
  {
   "cell_type": "markdown",
   "metadata": {},
   "source": [
    "# TimML Notebook 3 - 3D\n",
    "## Inhomogeneities"
   ]
  },
  {
   "cell_type": "markdown",
   "metadata": {},
   "source": [
    "Consider a two-layyer aquifer system that contains one inhomogeneity. Inside the inhomogeneity the transmissivity\n",
    "of the aquifer is much lower than outside the\n",
    "inhomogeneity, and the vertical anisotropy is larger (`kzoverkh` is smaller). \n",
    "\n",
    "A layout of the nodes of the inhomogeneity are shown in Fig. 1 (inhomogeneity 2 will be added\n",
    "later on). A well is located in the top aquifer inside inhomogeneity 1 (the black dot).\n",
    "\n",
    "<img src=\"figs/inhomogeneity_exercise3.png\"> </img>\n",
    "\n",
    "### Figure 1: Layout of elements for exercise 3. A well is located inside inhomogeneity 1. Inhomogeneity 2 is added in the second part of the exercise."
   ]
  },
  {
   "cell_type": "code",
   "execution_count": 1,
   "metadata": {},
   "outputs": [],
   "source": [
    "import timml as tml\n",
    "import numpy as np\n",
    "import matplotlib.pyplot as plt\n",
    "\n",
    "plt.rcParams[\"figure.figsize\"] = (6, 6)"
   ]
  },
  {
   "cell_type": "code",
   "execution_count": 2,
   "metadata": {},
   "outputs": [
    {
     "ename": "AttributeError",
     "evalue": "module 'timml' has no attribute 'PolygonInhom3D'",
     "output_type": "error",
     "traceback": [
      "\u001b[0;31m---------------------------------------------------------------------------\u001b[0m",
      "\u001b[0;31mAttributeError\u001b[0m                            Traceback (most recent call last)",
      "Cell \u001b[0;32mIn[2], line 4\u001b[0m\n\u001b[1;32m      1\u001b[0m ml \u001b[38;5;241m=\u001b[39m tml\u001b[38;5;241m.\u001b[39mModel3D(kaq\u001b[38;5;241m=\u001b[39m\u001b[38;5;241m10\u001b[39m, z\u001b[38;5;241m=\u001b[39m[\u001b[38;5;241m20\u001b[39m, \u001b[38;5;241m10\u001b[39m, \u001b[38;5;241m0\u001b[39m], kzoverkh\u001b[38;5;241m=\u001b[39m\u001b[38;5;241m0.02\u001b[39m)\n\u001b[1;32m      2\u001b[0m xy1 \u001b[38;5;241m=\u001b[39m [(\u001b[38;5;241m0\u001b[39m, \u001b[38;5;241m600\u001b[39m), (\u001b[38;5;241m-\u001b[39m\u001b[38;5;241m100\u001b[39m, \u001b[38;5;241m400\u001b[39m), (\u001b[38;5;241m-\u001b[39m\u001b[38;5;241m100\u001b[39m, \u001b[38;5;241m200\u001b[39m), (\u001b[38;5;241m100\u001b[39m, \u001b[38;5;241m100\u001b[39m), (\u001b[38;5;241m300\u001b[39m, \u001b[38;5;241m100\u001b[39m), (\u001b[38;5;241m500\u001b[39m, \u001b[38;5;241m100\u001b[39m),\n\u001b[1;32m      3\u001b[0m        (\u001b[38;5;241m700\u001b[39m, \u001b[38;5;241m300\u001b[39m), (\u001b[38;5;241m700\u001b[39m, \u001b[38;5;241m500\u001b[39m), (\u001b[38;5;241m600\u001b[39m, \u001b[38;5;241m700\u001b[39m), (\u001b[38;5;241m400\u001b[39m, \u001b[38;5;241m700\u001b[39m), (\u001b[38;5;241m200\u001b[39m, \u001b[38;5;241m600\u001b[39m)]\n\u001b[0;32m----> 4\u001b[0m p1 \u001b[38;5;241m=\u001b[39m \u001b[43mtml\u001b[49m\u001b[38;5;241;43m.\u001b[39;49m\u001b[43mPolygonInhom3D\u001b[49m(ml, xy\u001b[38;5;241m=\u001b[39mxy1, \n\u001b[1;32m      5\u001b[0m                         kaq\u001b[38;5;241m=\u001b[39m\u001b[38;5;241m2\u001b[39m, z\u001b[38;5;241m=\u001b[39m[\u001b[38;5;241m20\u001b[39m, \u001b[38;5;241m10\u001b[39m, \u001b[38;5;241m0\u001b[39m], kzoverkh\u001b[38;5;241m=\u001b[39m\u001b[38;5;241m0.002\u001b[39m,\n\u001b[1;32m      6\u001b[0m                         topboundary\u001b[38;5;241m=\u001b[39m\u001b[38;5;124m'\u001b[39m\u001b[38;5;124mconf\u001b[39m\u001b[38;5;124m'\u001b[39m, order\u001b[38;5;241m=\u001b[39m\u001b[38;5;241m5\u001b[39m, ndeg\u001b[38;5;241m=\u001b[39m\u001b[38;5;241m3\u001b[39m)\n\u001b[1;32m      7\u001b[0m rf \u001b[38;5;241m=\u001b[39m tml\u001b[38;5;241m.\u001b[39mConstant(ml, xr\u001b[38;5;241m=\u001b[39m\u001b[38;5;241m1000\u001b[39m, yr\u001b[38;5;241m=\u001b[39m\u001b[38;5;241m0\u001b[39m, hr\u001b[38;5;241m=\u001b[39m\u001b[38;5;241m40\u001b[39m)\n\u001b[1;32m      8\u001b[0m uf \u001b[38;5;241m=\u001b[39m tml\u001b[38;5;241m.\u001b[39mUflow(ml, slope\u001b[38;5;241m=\u001b[39m\u001b[38;5;241m0.002\u001b[39m, angle\u001b[38;5;241m=\u001b[39m\u001b[38;5;241m-\u001b[39m\u001b[38;5;241m45\u001b[39m)\n",
      "\u001b[0;31mAttributeError\u001b[0m: module 'timml' has no attribute 'PolygonInhom3D'"
     ]
    }
   ],
   "source": [
    "ml = tml.Model3D(kaq=10, z=[20, 10, 0], kzoverkh=0.02)\n",
    "xy1 = [\n",
    "    (0, 600),\n",
    "    (-100, 400),\n",
    "    (-100, 200),\n",
    "    (100, 100),\n",
    "    (300, 100),\n",
    "    (500, 100),\n",
    "    (700, 300),\n",
    "    (700, 500),\n",
    "    (600, 700),\n",
    "    (400, 700),\n",
    "    (200, 600),\n",
    "]\n",
    "p1 = tml.PolygonInhom3D(\n",
    "    ml,\n",
    "    xy=xy1,\n",
    "    kaq=2,\n",
    "    z=[20, 10, 0],\n",
    "    kzoverkh=0.002,\n",
    "    topboundary=\"conf\",\n",
    "    order=5,\n",
    "    ndeg=3,\n",
    ")\n",
    "rf = tml.Constant(ml, xr=1000, yr=0, hr=40)\n",
    "uf = tml.Uflow(ml, slope=0.002, angle=-45)\n",
    "w = tml.Well(ml, xw=400, yw=400, Qw=500, rw=0.2, layers=0)\n",
    "ml.solve()"
   ]
  },
  {
   "cell_type": "markdown",
   "metadata": {},
   "source": [
    "### Questions\n",
    "#### Exercise 3a\n",
    "What are the leakage factors of the background aquifer and the inhomogeneity?"
   ]
  },
  {
   "cell_type": "code",
   "execution_count": null,
   "metadata": {},
   "outputs": [],
   "source": [
    "print(\"Leakage factor of the background aquifer is:\", ml.aq.lab)\n",
    "print(\"Leakage factor of the inhomogeneity is:\", p1.lab)"
   ]
  },
  {
   "cell_type": "markdown",
   "metadata": {},
   "source": [
    "#### Exercise 3b\n",
    "Make a contour plot of both aquifers."
   ]
  },
  {
   "cell_type": "code",
   "execution_count": null,
   "metadata": {},
   "outputs": [],
   "source": [
    "ml.contour(\n",
    "    win=[-200, 800, 0, 800], ngr=50, layers=[0, 1], levels=20, labels=1, decimals=2\n",
    ")"
   ]
  },
  {
   "cell_type": "code",
   "execution_count": null,
   "metadata": {},
   "outputs": [],
   "source": [
    "ml.contour(\n",
    "    win=[-1200, 1800, -1000, 1800],\n",
    "    ngr=50,\n",
    "    layers=[0, 1],\n",
    "    levels=50,\n",
    "    labels=1,\n",
    "    decimals=2,\n",
    ")"
   ]
  },
  {
   "cell_type": "code",
   "execution_count": null,
   "metadata": {},
   "outputs": [],
   "source": [
    "htop = ml.headalongline(np.linspace(101, 499, 100), 100 + 0.001 * np.ones(100))\n",
    "hbot = ml.headalongline(np.linspace(101, 499, 100), 100 - 0.001 * np.ones(100))\n",
    "plt.figure()\n",
    "plt.plot(np.linspace(101, 499, 100), htop[0])\n",
    "plt.plot(np.linspace(101, 499, 100), hbot[0])"
   ]
  },
  {
   "cell_type": "code",
   "execution_count": null,
   "metadata": {},
   "outputs": [],
   "source": [
    "qtop = np.zeros(100)\n",
    "qbot = np.zeros(100)\n",
    "layer = 1\n",
    "x = np.linspace(101, 499, 100)\n",
    "for i in range(100):\n",
    "    qx, qy = ml.disvec(x[i], 100 + 0.001)\n",
    "    qtop[i] = qy[layer]\n",
    "    qx, qy = ml.disvec(x[i], 100 - 0.001)\n",
    "    qbot[i] = qy[layer]\n",
    "plt.figure()\n",
    "plt.plot(x, qtop)\n",
    "plt.plot(x, qbot)"
   ]
  },
  {
   "cell_type": "markdown",
   "metadata": {},
   "source": [
    "#### Exercise 3c\n",
    "Create a 20-year capture zone for the well, starting the pathlines halfway the top aquifer. First create a contour plot with a cross-section below it."
   ]
  },
  {
   "cell_type": "code",
   "execution_count": null,
   "metadata": {},
   "outputs": [],
   "source": [
    "ml.plot(win=[-200, 800, 0, 800], orientation=\"both\")\n",
    "w.plotcapzone(hstepmax=50, nt=20, zstart=15, tmax=20 * 365.25, orientation=\"both\")"
   ]
  },
  {
   "cell_type": "markdown",
   "metadata": {},
   "source": [
    "### Two inhomogeneities\n",
    "\n",
    "A second inhomogeneity is added, which shares part of its boundary with the first inhomogeneity. The aquifer properties for the inhomogeneity are provided in table 3. Inside this second inhomogeneity, the transmissivity of both the bottom aquifer and the resistance of the leaky layer are reduced. The input is now somewhat complicated. First the data of the two inhomgeneities is entered. Second, analytic elements are placed along the boundary of the inhomogeneity with `MakeInhomPolySide`. \n",
    "This routine places line elements along a string of points, but it requires that the\n",
    "aquifer data is the same on the left and right sides of the line. Hence, for this case we need to break the boundary up\n",
    "in three sections: One section with the background aquifer on one side and `inhom1` on the other, one section\n",
    "with the background aquifer on one side and `inhom2` on the other, and one section with `inhom1` on one side\n",
    "and `inhom2` on the other. The input file is a bit longer\n",
    "\n",
    "#### Table 3: Inhomogeneity 2 data\n",
    "\n",
    "|Layer        | $k$ (m/d) | $z_b$ (m) | $z_t$ | $c$ (days) |\n",
    "|------------:|----------:|----------:|------:|-----------:|\n",
    "|Aquifer 0    |    2      |     -20   |   0   |   -        |\n",
    "|Leaky Layer 1|    -      |    -40    |   -20 |   50       |\n",
    "|Aquifer 1    |    8      |    -80    |   -40 |   -        |"
   ]
  },
  {
   "cell_type": "code",
   "execution_count": null,
   "metadata": {},
   "outputs": [],
   "source": [
    "ml = tml.Model3D(kaq=10, z=[20, 10, 0], kzoverkh=0.02)\n",
    "xy1 = [\n",
    "    (0, 600),\n",
    "    (-100, 400),\n",
    "    (-100, 200),\n",
    "    (100, 100),\n",
    "    (300, 100),\n",
    "    (500, 100),\n",
    "    (700, 300),\n",
    "    (700, 500),\n",
    "    (600, 700),\n",
    "    (400, 700),\n",
    "    (200, 600),\n",
    "]\n",
    "p1 = tml.PolygonInhom3D(\n",
    "    ml,\n",
    "    xy=xy1,\n",
    "    kaq=2,\n",
    "    z=[20, 10, 0],\n",
    "    kzoverkh=0.002,\n",
    "    topboundary=\"conf\",\n",
    "    order=5,\n",
    "    ndeg=3,\n",
    ")\n",
    "xy2 = [\n",
    "    (0, 600),\n",
    "    (200, 600),\n",
    "    (400, 700),\n",
    "    (400, 900),\n",
    "    (200, 1100),\n",
    "    (0, 1000),\n",
    "    (-100, 800),\n",
    "]\n",
    "p2 = tml.PolygonInhom3D(\n",
    "    ml,\n",
    "    xy=xy2,\n",
    "    kaq=20,\n",
    "    z=[20, 10, 0],\n",
    "    kzoverkh=0.05,\n",
    "    topboundary=\"conf\",\n",
    "    order=5,\n",
    "    ndeg=3,\n",
    ")\n",
    "rf = tml.Constant(ml, xr=1000, yr=0, hr=40)\n",
    "uf = tml.Uflow(ml, slope=0.002, angle=-45)\n",
    "w = tml.Well(ml, xw=400, yw=400, Qw=500, rw=0.2, layers=0)\n",
    "ml.solve()"
   ]
  },
  {
   "cell_type": "code",
   "execution_count": null,
   "metadata": {},
   "outputs": [],
   "source": [
    "ml.contour(win=[-200, 1000, 0, 1200], ngr=50, layers=[0, 1], levels=20)"
   ]
  }
 ],
 "metadata": {
  "kernelspec": {
   "display_name": "Python 3 (ipykernel)",
   "language": "python",
   "name": "python3"
  },
  "language_info": {
   "codemirror_mode": {
    "name": "ipython",
    "version": 3
   },
   "file_extension": ".py",
   "mimetype": "text/x-python",
   "name": "python",
   "nbconvert_exporter": "python",
   "pygments_lexer": "ipython3",
   "version": "3.8.16"
  },
  "latex_envs": {
   "LaTeX_envs_menu_present": true,
   "autoclose": false,
   "autocomplete": true,
   "bibliofile": "biblio.bib",
   "cite_by": "apalike",
   "current_citInitial": 1,
   "eqLabelWithNumbers": true,
   "eqNumInitial": 1,
   "hotkeys": {
    "equation": "Ctrl-E",
    "itemize": "Ctrl-I"
   },
   "labels_anchors": false,
   "latex_user_defs": false,
   "report_style_numbering": false,
   "user_envs_cfg": false
  },
  "widgets": {
   "state": {},
   "version": "1.1.2"
  }
 },
 "nbformat": 4,
 "nbformat_minor": 4
}
