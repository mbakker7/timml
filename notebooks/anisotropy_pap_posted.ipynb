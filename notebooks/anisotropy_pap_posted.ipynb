{
 "cells": [
  {
   "cell_type": "markdown",
   "metadata": {},
   "source": [
    "#### Notebook to run experiments in \"The Effective Vertical Anisotropy of Layered Aquifers\" by Mark Bakker and Bram Bot."
   ]
  },
  {
   "cell_type": "markdown",
   "metadata": {},
   "source": [
    "Reference: M. Bakker and B. Bot (2024) The effective vertical anisotropy of layered aquifers. Groundwater. Available online early: [doi](https://doi.org/10.1111/gwat.13432)."
   ]
  },
  {
   "cell_type": "code",
   "execution_count": 1,
   "metadata": {},
   "outputs": [],
   "source": [
    "import matplotlib.pyplot as plt\n",
    "import numpy as np\n",
    "from scipy.optimize import brentq\n",
    "\n",
    "import timml as tml"
   ]
  },
  {
   "cell_type": "markdown",
   "metadata": {},
   "source": [
    "Function to generate hydraulic conductivities"
   ]
  },
  {
   "cell_type": "code",
   "execution_count": 2,
   "metadata": {},
   "outputs": [],
   "source": [
    "def generatek(ksection=20 * [0.1, 1], nsections=10, seed=1):\n",
    "    \"\"\"Generate k.\n",
    "\n",
    "    Input:\n",
    "    ksection: k values in the section\n",
    "    nsection: number of sections\n",
    "    seed: seed of random number generator\n",
    "    \"\"\"\n",
    "    nk = len(ksection)\n",
    "    # nlayers = nk * nsections\n",
    "    kaq = np.zeros((nsections, nk))\n",
    "    rng = np.random.default_rng(seed)\n",
    "    for i in range(nsections):\n",
    "        kaq[i] = rng.choice(ksection, nk, replace=False)\n",
    "    return kaq.flatten()"
   ]
  },
  {
   "cell_type": "markdown",
   "metadata": {},
   "source": [
    "Function to create a model with a canal given `kx` and `kz`. "
   ]
  },
  {
   "cell_type": "code",
   "execution_count": 3,
   "metadata": {},
   "outputs": [],
   "source": [
    "def makemodel(kx, kz, d=4, returnmodel=False):\n",
    "    \"\"\"Creates model with river at center, and water supplied from infinitiy.\n",
    "\n",
    "    d is depth of river.\n",
    "    \"\"\"\n",
    "    H = 40  # thickness of model\n",
    "    # d = 4 # depth of river\n",
    "    naq = len(kx)\n",
    "    ml = tml.Model3D(kaq=kx, z=np.linspace(H, 0, naq + 1), kzoverkh=kz / kx)\n",
    "    tml.LineSink1D(ml, xls=0, sigls=2, layers=np.arange(int(d * 10)))\n",
    "    tml.Constant(ml, xr=2000, yr=0, hr=0, layer=0)\n",
    "    ml.solve(silent=True)\n",
    "    if returnmodel:\n",
    "        return ml\n",
    "    return ml.head(0, 0)[0]\n",
    "\n",
    "\n",
    "def func(kz, kx, h0, d=4, nlayers=400):\n",
    "    \"\"\"Computes head difference.\"\"\"\n",
    "    hnew = makemodel(kx * np.ones(nlayers), kz * np.ones(nlayers), d, returnmodel=False)\n",
    "    return hnew - h0"
   ]
  },
  {
   "cell_type": "markdown",
   "metadata": {},
   "source": [
    "Function to create a model with a partially penetrating well."
   ]
  },
  {
   "cell_type": "code",
   "execution_count": 4,
   "metadata": {},
   "outputs": [],
   "source": [
    "def makemodelradial(kx, kz, d=4, rw=0.1, returnmodel=False):\n",
    "    \"\"\"Creates model with river at center, and water supplied from infinitiy.\"\"\"\n",
    "    H = 40  # thickness of model\n",
    "    # d = 4 # depth of river\n",
    "    Qw = 1000\n",
    "    naq = len(kx)\n",
    "    ml = tml.Model3D(kaq=kx, z=np.linspace(H, 0, naq + 1), kzoverkh=kz / kx)\n",
    "    tml.Well(ml, xw=0, yw=0, Qw=Qw, rw=rw, layers=np.arange(int(d * 10)))\n",
    "    tml.Constant(ml, xr=2000, yr=0, hr=0, layer=0)\n",
    "    ml.solve(silent=True)\n",
    "    if returnmodel:\n",
    "        return ml\n",
    "    return ml.head(0, 0)[0]\n",
    "\n",
    "\n",
    "def funcradial(kz, kx, h0, d=4, rw=0.1, nlayers=400):\n",
    "    \"\"\"Computes head difference.\"\"\"\n",
    "    hnew = makemodelradial(\n",
    "        kx * np.ones(nlayers), kz * np.ones(nlayers), d, rw, returnmodel=False\n",
    "    )\n",
    "    return hnew - h0"
   ]
  },
  {
   "cell_type": "code",
   "execution_count": null,
   "metadata": {},
   "outputs": [],
   "source": []
  },
  {
   "cell_type": "markdown",
   "metadata": {},
   "source": [
    "Find effective vertical hydraulic conductivity for one realization of 400 layers and time it"
   ]
  },
  {
   "cell_type": "code",
   "execution_count": 5,
   "metadata": {},
   "outputs": [
    {
     "name": "stdout",
     "output_type": "stream",
     "text": [
      "2.6 s ± 226 ms per loop (mean ± std. dev. of 7 runs, 1 loop each)\n"
     ]
    }
   ],
   "source": [
    "kaq = 80 * [1, 3.16, 10, 31.6, 100]  # 400 k values\n",
    "k = generatek(ksection=kaq, nsections=1)  # random order of k values\n",
    "h0 = makemodel(k, k)  # head at canal\n",
    "kx = np.mean(k)  # equivalent horizontal k\n",
    "# vertical hydraulic conductivity:\n",
    "%timeit kz = brentq(func, a=0.001 * kx, b=kx, args=(kx, h0)) "
   ]
  },
  {
   "cell_type": "markdown",
   "metadata": {},
   "source": [
    "Run the experiment for Figure 3a. This is commented out because it takes a long time to run. The number of the realization is printed to the screen every 10 realizations. "
   ]
  },
  {
   "cell_type": "markdown",
   "metadata": {},
   "source": [
    "So 1000 realizations takes on the order of 3000 seconds (on this machine), so around 50 minutes. "
   ]
  },
  {
   "cell_type": "code",
   "execution_count": 6,
   "metadata": {},
   "outputs": [
    {
     "name": "stdout",
     "output_type": "stream",
     "text": [
      "0 10 20 30 40 50 60 70 80 90 100 110 120 130 140 150 160 170 180 190 200 210 220 230 240 250 260 270 280 290 300 310 320 330 340 350 360 370 380 390 400 410 420 430 440 450 460 470 480 490 500 510 520 530 540 550 560 570 580 590 600 610 620 630 640 650 660 670 680 690 700 710 720 730 740 750 760 770 780 790 800 810 820 830 840 850 860 870 880 890 900 910 920 930 940 950 960 970 980 990 \n",
      " completed\n"
     ]
    }
   ],
   "source": [
    "kaq = np.array(80 * [1, 3.16, 10, 31.6, 100])\n",
    "ntot = 1000\n",
    "aniso = np.zeros(ntot)\n",
    "\n",
    "for i in range(ntot):\n",
    "    k = generatek(kaq, nsections=1, seed=i)\n",
    "    h0 = makemodel(k, k)\n",
    "    kx = np.mean(k)\n",
    "    kz = brentq(func, a=0.001 * kx, b=kx, args=(kx, h0))\n",
    "    aniso[i] = kx / kz\n",
    "    if i % 10 == 0:\n",
    "        print(i, end=\" \")\n",
    "print(\"\\n completed\")"
   ]
  },
  {
   "cell_type": "markdown",
   "metadata": {},
   "source": [
    "Create figure 3a"
   ]
  },
  {
   "cell_type": "code",
   "execution_count": 11,
   "metadata": {},
   "outputs": [],
   "source": [
    "from scipy.stats import lognorm\n",
    "\n",
    "\n",
    "def create_fig3a():\n",
    "    plt.figure(figsize=(3, 3))\n",
    "    plt.subplot(211)\n",
    "    plt.hist(aniso, bins=np.arange(2, 20, 0.5), density=True)\n",
    "    p5, p50, p95 = np.percentile(aniso, [5, 50, 95])\n",
    "    # print('p5, p50, p95', p5, p50, p95)\n",
    "    plt.axvline(p5, color=\"C1\")\n",
    "    plt.axvline(p95, color=\"C1\")\n",
    "    plt.axvline(p50, color=\"C2\")\n",
    "    kheq = np.mean(kaq)\n",
    "    kveq = len(kaq) / np.sum(1 / kaq)\n",
    "    anisoeq = kheq / kveq\n",
    "    plt.axvline(anisoeq, color=\"k\", linestyle=\":\", linewidth=1)\n",
    "    #\n",
    "    shape, loc, scale = lognorm.fit(aniso)\n",
    "    # print('shape, loc, scale: ', shape, loc, scale)\n",
    "    x = np.linspace(0, 20, 100)\n",
    "    pdf1 = lognorm.pdf(x, shape, loc, scale)\n",
    "    plt.plot(x, pdf1, \"k--\", lw=1)\n",
    "    plt.xlim(0, 20)\n",
    "    plt.ylim(0, 0.25)\n",
    "    plt.xticks(np.arange(0, 21, 4))\n",
    "    plt.xlabel(r\"$\\alpha_{eff}$ for $d=4$ m\")\n",
    "    plt.ylabel(\"pdf\")\n",
    "    plt.tight_layout()"
   ]
  },
  {
   "cell_type": "code",
   "execution_count": 12,
   "metadata": {},
   "outputs": [
    {
     "data": {
      "image/png": "[encoded data removed]",
      "text/plain": [
       "<Figure size 300x300 with 1 Axes>"
      ]
     },
     "metadata": {},
     "output_type": "display_data"
    }
   ],
   "source": [
    "# Only run if anisotropy has been computed\n",
    "create_fig3a()"
   ]
  }
 ],
 "metadata": {
  "kernelspec": {
   "display_name": "Python 3 (ipykernel)",
   "language": "python",
   "name": "python3"
  },
  "language_info": {
   "codemirror_mode": {
    "name": "ipython",
    "version": 3
   },
   "file_extension": ".py",
   "mimetype": "text/x-python",
   "name": "python",
   "nbconvert_exporter": "python",
   "pygments_lexer": "ipython3",
   "version": "3.11.4"
  },
  "latex_envs": {
   "LaTeX_envs_menu_present": true,
   "autoclose": false,
   "autocomplete": true,
   "bibliofile": "biblio.bib",
   "cite_by": "apalike",
   "current_citInitial": 1,
   "eqLabelWithNumbers": true,
   "eqNumInitial": 1,
   "hotkeys": {
    "equation": "Ctrl-E",
    "itemize": "Ctrl-I"
   },
   "labels_anchors": false,
   "latex_user_defs": false,
   "report_style_numbering": false,
   "user_envs_cfg": false
  }
 },
 "nbformat": 4,
 "nbformat_minor": 4
}
