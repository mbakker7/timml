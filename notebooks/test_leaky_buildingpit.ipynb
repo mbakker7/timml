{
 "cells": [
  {
   "attachments": {},
   "cell_type": "markdown",
   "metadata": {},
   "source": [
    "# Leaky Building Pit\n",
    "\n",
    "Testing the LeakyBuildingPit.\n",
    "\n",
    "1. [Single layer model](#1-single-layer-model)\n",
    "2. [Single layer model with well](#2-single-layer-model-with-well)\n",
    "3. [Two-layer model](#3-two-layer-model)\n",
    "4. [Two layer model with well](#4-two-layer-model-with-well)"
   ]
  },
  {
   "cell_type": "code",
   "execution_count": null,
   "metadata": {},
   "outputs": [],
   "source": [
    "import timml as tml\n",
    "import numpy as np\n",
    "import matplotlib.pyplot as plt"
   ]
  },
  {
   "attachments": {},
   "cell_type": "markdown",
   "metadata": {},
   "source": [
    "## 1. Single layer model"
   ]
  },
  {
   "cell_type": "code",
   "execution_count": null,
   "metadata": {},
   "outputs": [],
   "source": [
    "# model parameters\n",
    "kh = 10  # m/day\n",
    "kv = 0.25 * kh  # m/day\n",
    "\n",
    "ctop = 1000.  # resistance top leaky layer in days\n",
    "\n",
    "ztop = 0. # surface elevation\n",
    "zbot = -20.  # bottom elevation of the model\n",
    "\n",
    "h_bem = -1.0  # m, top boundary in pit\n",
    "res = 100.0  # days, resistance of sheetpile wall\n",
    "\n",
    "dx = 40.  # length building pit in m\n",
    "dy = 30.   # width building pit in m\n",
    "\n",
    "xy = [\n",
    "    (-dx / 2, -dy / 2),\n",
    "    (dx / 2, -dy / 2),\n",
    "    (dx / 2, dy / 2),\n",
    "    (-dx / 2, dy / 2),\n",
    "    (-dx / 2, -dy / 2),\n",
    "]\n",
    "\n",
    "# get data ready for timml\n",
    "z = np.array([ztop+1, ztop, zbot])\n",
    "dz = z[1::2] - z[2::2]\n",
    "kh_arr = kh * np.ones(dz.shape)\n",
    "c = np.r_[np.array([ctop]), dz[:-1]/(2*kv) + dz[1:]/(2*kv)]"
   ]
  },
  {
   "cell_type": "code",
   "execution_count": null,
   "metadata": {},
   "outputs": [],
   "source": [
    "# reference solution for res -> inf\n",
    "ml0_ref = tml.ModelMaq(kaq=kh_arr, z=z, c=c, topboundary=\"semi\", hstar=0.0)\n",
    "bpit = tml.BuildingPit(\n",
    "    ml0_ref,\n",
    "    xy,\n",
    "    kaq=kh_arr,\n",
    "    z=z,\n",
    "    topboundary=\"semi\",\n",
    "    hstar=h_bem,\n",
    "    c=c,\n",
    "    layers=[0],\n",
    ")\n",
    "ml0_ref.solve()\n"
   ]
  },
  {
   "cell_type": "code",
   "execution_count": null,
   "metadata": {},
   "outputs": [],
   "source": [
    "ml0 = tml.ModelMaq(kaq=kh_arr, z=z, c=c, topboundary=\"semi\", hstar=0.0)\n",
    "bpit = tml.LeakyBuildingPit(\n",
    "    ml0,\n",
    "    xy,\n",
    "    kaq=kh_arr,\n",
    "    z=z,\n",
    "    topboundary=\"semi\",\n",
    "    hstar=h_bem,\n",
    "    c=c,\n",
    "    layers=[0],\n",
    "    res=res,\n",
    ")\n",
    "ml0.solve()\n"
   ]
  },
  {
   "cell_type": "code",
   "execution_count": null,
   "metadata": {},
   "outputs": [],
   "source": [
    "ml0.contour(win=(-dx/2, dx/2, -dy/2, dy/2), ngr=51, levels=30, decimals=3, layers=[0]);"
   ]
  },
  {
   "cell_type": "code",
   "execution_count": null,
   "metadata": {},
   "outputs": [],
   "source": [
    "x = np.linspace(-100, 100, 100)\n",
    "h0 = ml0.headalongline(x, np.zeros_like(x))\n",
    "h0_ref = ml0_ref.headalongline(x, np.zeros_like(x))"
   ]
  },
  {
   "cell_type": "code",
   "execution_count": null,
   "metadata": {},
   "outputs": [],
   "source": [
    "plt.plot(x, h0[0], label=f\"res={res:.0f} d\")\n",
    "# plt.plot(x, h0_ref[0], label=\"res=$\\infty$ d\")\n",
    "plt.axvline(-dx/2, ls=\"dashed\", color=\"k\", lw=1.0)\n",
    "plt.axvline(dx/2, ls=\"dashed\", color=\"k\", lw=1.0)\n",
    "plt.grid(True)\n",
    "plt.legend(loc=(0, 1), frameon=False, ncol=2);"
   ]
  },
  {
   "cell_type": "code",
   "execution_count": null,
   "metadata": {},
   "outputs": [],
   "source": [
    "Qn0 = ml0.disvecalongline(x, np.zeros_like(x))[0]"
   ]
  },
  {
   "cell_type": "code",
   "execution_count": null,
   "metadata": {},
   "outputs": [],
   "source": [
    "plt.plot(x, Qn0[0])\n",
    "plt.axvline(-dx/2, ls=\"dashed\", color=\"k\", lw=1.0)\n",
    "plt.axvline(dx/2, ls=\"dashed\", color=\"k\", lw=1.0)\n",
    "plt.grid(True)"
   ]
  },
  {
   "attachments": {},
   "cell_type": "markdown",
   "metadata": {},
   "source": [
    "## 2. Single layer model with well"
   ]
  },
  {
   "cell_type": "code",
   "execution_count": null,
   "metadata": {},
   "outputs": [],
   "source": [
    "ml1 = tml.ModelMaq(kaq=kh_arr, z=z, c=c, topboundary=\"semi\", hstar=0.0)\n",
    "\n",
    "inhom = tml.LeakyBuildingPit(\n",
    "    ml1,\n",
    "    xy,\n",
    "    kaq=kh_arr,\n",
    "    z=z[1:],\n",
    "    topboundary=\"conf\",\n",
    "    c=[],\n",
    "    layers=[0],\n",
    "    res=res,\n",
    ")\n",
    "well = tml.Well(ml1, 0.0, 0.0, Qw=100.0)\n",
    "ml1.solve()"
   ]
  },
  {
   "cell_type": "code",
   "execution_count": null,
   "metadata": {},
   "outputs": [],
   "source": [
    "ml1.contour(win=(-dx/2, dx/2, -dy/2, dy/2), ngr=51, levels=30, decimals=2, layers=[0]);"
   ]
  },
  {
   "cell_type": "code",
   "execution_count": null,
   "metadata": {},
   "outputs": [],
   "source": [
    "x = np.linspace(-100, 100, 100)\n",
    "h1 = ml1.headalongline(x, np.zeros_like(x))"
   ]
  },
  {
   "cell_type": "code",
   "execution_count": null,
   "metadata": {},
   "outputs": [],
   "source": [
    "plt.plot(x, h1[0], label=f\"res={res:.0f} d\")\n",
    "plt.axvline(-dx/2, ls=\"dashed\", color=\"k\", lw=1.0)\n",
    "plt.axvline(dx/2, ls=\"dashed\", color=\"k\", lw=1.0)\n",
    "plt.grid(True)\n",
    "plt.legend(loc=(0, 1), frameon=False, ncol=2)\n",
    "plt.ylim(top=0.05);"
   ]
  },
  {
   "cell_type": "code",
   "execution_count": null,
   "metadata": {},
   "outputs": [],
   "source": [
    "Qn1 = ml1.disvecalongline(x, np.zeros_like(x))[0]"
   ]
  },
  {
   "cell_type": "code",
   "execution_count": null,
   "metadata": {},
   "outputs": [],
   "source": [
    "plt.plot(x, Qn1[0])\n",
    "plt.axvline(-dx/2, ls=\"dashed\", color=\"k\", lw=1.0)\n",
    "plt.axvline(dx/2, ls=\"dashed\", color=\"k\", lw=1.0)\n",
    "plt.grid(True)"
   ]
  },
  {
   "attachments": {},
   "cell_type": "markdown",
   "metadata": {},
   "source": [
    "## 3. Two-layer model"
   ]
  },
  {
   "cell_type": "code",
   "execution_count": null,
   "metadata": {},
   "outputs": [],
   "source": [
    "# model parameters\n",
    "kh = 10  # m/day\n",
    "kv = 0.25 * kh  # m/day\n",
    "\n",
    "ctop = 1000.  # resistance top leaky layer in days\n",
    "\n",
    "ztop = 0. # surface elevation\n",
    "zwall = -10.0  # bottom elevation of sheetpile wall\n",
    "zbot = -20.  # bottom elevation of the model\n",
    "\n",
    "h_bem = -1.0  # m, top boundary in pit\n",
    "res = 100.0  # days, resistance of sheetpile wall\n",
    "\n",
    "dx = 40.  # length building pit in m\n",
    "dy = 30.   # width building pit in m\n",
    "\n",
    "xy = [\n",
    "    (-dx / 2, -dy / 2),\n",
    "    (dx / 2, -dy / 2),\n",
    "    (dx / 2, dy / 2),\n",
    "    (-dx / 2, dy / 2),\n",
    "    (-dx / 2, -dy / 2),\n",
    "]\n",
    "\n",
    "# get data ready for timml\n",
    "z = np.array([ztop+1, ztop, zwall, zwall, zbot])\n",
    "dz = z[1::2] - z[2::2]\n",
    "kh_arr = kh * np.ones(dz.shape)\n",
    "c = np.r_[np.array([ctop]), dz[:-1]/(2*kv) + dz[1:]/(2*kv)]"
   ]
  },
  {
   "cell_type": "code",
   "execution_count": null,
   "metadata": {},
   "outputs": [],
   "source": [
    "# reference solution for res -> inf\n",
    "ml2_ref = tml.ModelMaq(kaq=kh_arr, z=z, c=c, topboundary=\"semi\", hstar=0.0)\n",
    "bpit = tml.BuildingPit(\n",
    "    ml2_ref,\n",
    "    xy,\n",
    "    kaq=kh_arr,\n",
    "    z=z,\n",
    "    topboundary=\"semi\",\n",
    "    hstar=h_bem,\n",
    "    c=c,\n",
    "    layers=[0],\n",
    ")\n",
    "ml2_ref.solve()"
   ]
  },
  {
   "cell_type": "code",
   "execution_count": null,
   "metadata": {},
   "outputs": [],
   "source": [
    "ml2 = tml.ModelMaq(kaq=kh_arr, z=z, c=c, topboundary=\"semi\", hstar=0.0)\n",
    "bpit = tml.LeakyBuildingPit(\n",
    "    ml2,\n",
    "    xy,\n",
    "    kaq=kh_arr,\n",
    "    z=z,\n",
    "    topboundary=\"semi\",\n",
    "    hstar=h_bem,\n",
    "    c=c,\n",
    "    layers=[0],\n",
    "    res=res,\n",
    ")\n",
    "ml2.solve()"
   ]
  },
  {
   "cell_type": "code",
   "execution_count": null,
   "metadata": {},
   "outputs": [],
   "source": [
    "ml2.contour(win=(-dx/2, dx/2, -dy/2, dy/2), ngr=51, levels=30, decimals=3, layers=[0, 1]);"
   ]
  },
  {
   "cell_type": "code",
   "execution_count": null,
   "metadata": {},
   "outputs": [],
   "source": [
    "x = np.linspace(-100, 100, 100)\n",
    "h2 = ml2.headalongline(x, np.zeros_like(x))\n",
    "h2_ref = ml2_ref.headalongline(x, np.zeros_like(x))"
   ]
  },
  {
   "cell_type": "code",
   "execution_count": null,
   "metadata": {},
   "outputs": [],
   "source": [
    "plt.plot(x, h2[0], label=f\"res={res:.0f} d, layer 0\")\n",
    "plt.plot(x, h2[1], label=f\"res={res:.0f} d, layer 1\")\n",
    "plt.plot(x, h2_ref[0], c=\"C0\", ls=\"dashed\", label=\"res=$\\infty$ d, layer 0\")\n",
    "plt.plot(x, h2_ref[1], c=\"C1\", ls=\"dashed\", label=\"res=$\\infty$ d, layer 1\")\n",
    "plt.axvline(-dx/2, ls=\"dashed\", color=\"k\", lw=1.0)\n",
    "plt.axvline(dx/2, ls=\"dashed\", color=\"k\", lw=1.0)\n",
    "plt.grid(True)\n",
    "plt.legend(loc=(0, 1), frameon=False, ncol=2);"
   ]
  },
  {
   "cell_type": "code",
   "execution_count": null,
   "metadata": {},
   "outputs": [],
   "source": [
    "Qn2 = ml2.disvecalongline(x, np.zeros_like(x))[0]\n",
    "Qn2_ref = ml2_ref.disvecalongline(x, np.zeros_like(x))[0]"
   ]
  },
  {
   "cell_type": "code",
   "execution_count": null,
   "metadata": {},
   "outputs": [],
   "source": [
    "plt.plot(x, Qn2[0], label=f\"res={res:.0f} d, layer 0\")\n",
    "plt.plot(x, Qn2[1], label=f\"res={res:.0f} d, layer 1\")\n",
    "plt.plot(x, Qn2_ref[0], c=\"C0\", ls=\"dashed\", label=\"res=$\\infty$ d, layer 0\")\n",
    "plt.plot(x, Qn2_ref[1], c=\"C1\", ls=\"dashed\", label=\"res=$\\infty$ d, layer 1\")\n",
    "plt.axvline(-dx/2, ls=\"dashed\", color=\"k\", lw=1.0)\n",
    "plt.axvline(dx/2, ls=\"dashed\", color=\"k\", lw=1.0)\n",
    "plt.grid(True)\n",
    "plt.legend(loc=(0, 1), frameon=False, ncol=2);"
   ]
  },
  {
   "attachments": {},
   "cell_type": "markdown",
   "metadata": {},
   "source": [
    "## 4. Two-layer model with well"
   ]
  },
  {
   "cell_type": "code",
   "execution_count": null,
   "metadata": {},
   "outputs": [],
   "source": [
    "# reference solution for res -> inf\n",
    "ml3_ref = tml.ModelMaq(kaq=kh_arr, z=z, c=c, topboundary=\"semi\", hstar=0.0)\n",
    "bpit = tml.BuildingPit(\n",
    "    ml3_ref,\n",
    "    xy,\n",
    "    kaq=kh_arr,\n",
    "    z=z[1:],\n",
    "    topboundary=\"conf\",\n",
    "    c=c[1:],\n",
    "    layers=[0],\n",
    ")\n",
    "well = tml.Well(ml3_ref, 0.0, 0.0, Qw=100.0, layers=[0])\n",
    "ml3_ref.solve()"
   ]
  },
  {
   "cell_type": "code",
   "execution_count": null,
   "metadata": {},
   "outputs": [],
   "source": [
    "ml3 = tml.ModelMaq(kaq=kh_arr, z=z, c=c, topboundary=\"semi\", hstar=0.0)\n",
    "bpit = tml.LeakyBuildingPit(\n",
    "    ml3,\n",
    "    xy,\n",
    "    kaq=kh_arr,\n",
    "    z=z[1:],\n",
    "    topboundary=\"conf\",\n",
    "    c=c[1:],\n",
    "    layers=[0],\n",
    "    res=res,\n",
    "    # order=5,\n",
    "    # ndeg=5,\n",
    ")\n",
    "well = tml.Well(ml3, 0.0, 0.0, Qw=100.0, layers=[0])\n",
    "ml3.solve()"
   ]
  },
  {
   "cell_type": "code",
   "execution_count": null,
   "metadata": {},
   "outputs": [],
   "source": [
    "ml3.contour(win=(-dx/2, dx/2, -dy/2, dy/2), ngr=51, levels=30, decimals=3, layers=[0, 1]);"
   ]
  },
  {
   "cell_type": "code",
   "execution_count": null,
   "metadata": {},
   "outputs": [],
   "source": [
    "x = np.linspace(-100, 100, 100)\n",
    "h3 = ml3.headalongline(x, np.zeros_like(x))\n",
    "h3_ref = ml3_ref.headalongline(x, np.zeros_like(x))"
   ]
  },
  {
   "cell_type": "code",
   "execution_count": null,
   "metadata": {},
   "outputs": [],
   "source": [
    "plt.plot(x, h3[0], label=f\"res={res:.0f} d, layer 0\")\n",
    "plt.plot(x, h3[1], label=f\"res={res:.0f} d, layer 1\")\n",
    "plt.plot(x, h3_ref[0], c=\"C0\", ls=\"dashed\", label=\"res=$\\infty$ d, layer 0\" )\n",
    "plt.plot(x, h3_ref[1], c=\"C1\", ls=\"dashed\", label=\"res=$\\infty$ d, layer 1\" )\n",
    "plt.axvline(-dx/2, ls=\"dashed\", color=\"k\", lw=1.0)\n",
    "plt.axvline(dx/2, ls=\"dashed\", color=\"k\", lw=1.0)\n",
    "plt.grid(True)\n",
    "plt.legend(loc=(0, 1), frameon=False, ncol=2);"
   ]
  },
  {
   "cell_type": "code",
   "execution_count": null,
   "metadata": {},
   "outputs": [],
   "source": [
    "Qn3 = ml3.disvecalongline(x, np.zeros_like(x))[0]\n",
    "Qn3_ref = ml3_ref.disvecalongline(x, np.zeros_like(x))[0]"
   ]
  },
  {
   "cell_type": "code",
   "execution_count": null,
   "metadata": {},
   "outputs": [],
   "source": [
    "plt.plot(x, Qn3[0], label=f\"res={res:.0f} d, layer 0\")\n",
    "plt.plot(x, Qn3[1], label=f\"res={res:.0f} d, layer 1\")\n",
    "plt.plot(x, Qn3_ref[0], c=\"C0\", ls=\"dashed\", label=\"res=$\\infty$ d, layer 0\")\n",
    "plt.plot(x, Qn3_ref[1], c=\"C1\", ls=\"dashed\", label=\"res=$\\infty$ d, layer 1\")\n",
    "plt.axvline(-dx/2, ls=\"dashed\", color=\"k\", lw=1.0)\n",
    "plt.axvline(dx/2, ls=\"dashed\", color=\"k\", lw=1.0)\n",
    "plt.grid(True)\n",
    "plt.legend(loc=(0, 1), frameon=False, ncol=2);"
   ]
  }
 ],
 "metadata": {
  "kernelspec": {
   "display_name": "artesia",
   "language": "python",
   "name": "python3"
  },
  "language_info": {
   "codemirror_mode": {
    "name": "ipython",
    "version": 3
   },
   "file_extension": ".py",
   "mimetype": "text/x-python",
   "name": "python",
   "nbconvert_exporter": "python",
   "pygments_lexer": "ipython3",
   "version": "3.10.11"
  },
  "orig_nbformat": 4
 },
 "nbformat": 4,
 "nbformat_minor": 2
}
